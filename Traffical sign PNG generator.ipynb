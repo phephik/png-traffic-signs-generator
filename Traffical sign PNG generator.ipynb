{
 "cells": [
  {
   "cell_type": "markdown",
   "metadata": {},
   "source": [
    "# Traffical sign PNG generator"
   ]
  },
  {
   "cell_type": "markdown",
   "metadata": {},
   "source": [
    "This script convert traffico font from .html file with traffic signs to .png file used for V2X."
   ]
  },
  {
   "cell_type": "code",
   "execution_count": 3,
   "metadata": {
    "scrolled": true
   },
   "outputs": [
    {
     "name": "stderr",
     "output_type": "stream",
     "text": [
      "/usr/local/lib/python3.5/dist-packages/selenium/webdriver/phantomjs/webdriver.py:49: UserWarning: Selenium support for PhantomJS has been deprecated, please use headless versions of Chrome or Firefox instead\n",
      "  warnings.warn('Selenium support for PhantomJS has been deprecated, please use headless '\n"
     ]
    }
   ],
   "source": [
    "from selenium import webdriver\n",
    "import os\n",
    "\n",
    "input_dir = \"./traffic_signs\"\n",
    "output_dir = \"./traffic_signs-png\"\n",
    "\n",
    "driver = webdriver.PhantomJS()\n",
    "\n",
    "for filename in os.listdir(input_dir):\n",
    "    if filename.endswith(\".html\"):\n",
    "        input_file = input_dir + \"/\" + filename\n",
    "        output_file = output_dir + \"/\" + filename.split(\".\")[0] + \".png\"  \n",
    "        driver.set_window_size(300,300)\n",
    "        driver.get(input_file)\n",
    "        driver.save_screenshot(output_file)\n",
    "        driver.quit\n",
    "                "
   ]
  },
  {
   "cell_type": "code",
   "execution_count": null,
   "metadata": {},
   "outputs": [],
   "source": []
  }
 ],
 "metadata": {
  "kernelspec": {
   "display_name": "Python 3",
   "language": "python",
   "name": "python3"
  },
  "language_info": {
   "codemirror_mode": {
    "name": "ipython",
    "version": 3
   },
   "file_extension": ".py",
   "mimetype": "text/x-python",
   "name": "python",
   "nbconvert_exporter": "python",
   "pygments_lexer": "ipython3",
   "version": "3.5.2"
  }
 },
 "nbformat": 4,
 "nbformat_minor": 2
}
